{
 "cells": [
  {
   "cell_type": "markdown",
   "metadata": {},
   "source": [
    "### Block Release Exercise: Data Analysis Group\n",
    "\n",
    "This notebook is for the data analysis group. Your aim is to write code that will analyse the data produced by the other group. You will not work with the group until the end - the point of this task is that there is a clear definition (given below) of the \"interface format\" between your code and the data being produced by the other group's code. At the end of the day, you should be able to retrieve their file from GitHub and check whether your analysis works on it.\n",
    "\n",
    "The task is concerned with processing a file that contains a list of customers for an online coffe \n",
    "\n",
    "There are various tasks that you have to do. These are marked with \"Coding Task\" in the sheet."
   ]
  },
  {
   "cell_type": "markdown",
   "metadata": {},
   "source": [
    "##### Background Information: Interface Format\n",
    "\n",
    "The software interface between your work and the work by the other group consists of an csv formatted file, i.e. a file where on each row, entries are separated by commas, with a newline separating rows.The columns are: First Name, Last Name, Email, Address, Total Orders (in that order). Total orders is the number of coffee pods that the customer has ordered so far. The file will be called *cleanedCustomerData.csv*"
   ]
  },
  {
   "cell_type": "markdown",
   "metadata": {},
   "source": [
    "Coding Task: In the next block, import the Pandas library and call it \"pd\"."
   ]
  },
  {
   "cell_type": "code",
   "execution_count": 1,
   "metadata": {},
   "outputs": [],
   "source": [
    "import pandas as pd"
   ]
  },
  {
   "cell_type": "markdown",
   "metadata": {},
   "source": [
    "Preliminary Task: In order to test your code, you are going to need some example data. So, go into Excel and create a spreadsheet with the five columns mentioned in the *Interface Format* above. Create a couple of rows of data by making up names, etc. Make sure that when you save it, you save it as a *csv* file (not an Excel file) and that you call it *cleanedCustomerData.csv*. For now, it will only need to have a couple of example rows, but later on you might need to add more lines to test specific parts of your code. If you do this, remember to re-run your sheet from the beginning."
   ]
  },
  {
   "cell_type": "markdown",
   "metadata": {},
   "source": [
    "Coding Task: In the next block, import the sample customer data file that you have created into a Pandas DataFrame, give it the variable name *customers* and print it out to check that you have imported it correctly. You will need to find out how to read a csv file in Pandas."
   ]
  },
  {
   "cell_type": "code",
   "execution_count": 2,
   "metadata": {},
   "outputs": [
    {
     "data": {
      "text/html": [
       "<div>\n",
       "<style scoped>\n",
       "    .dataframe tbody tr th:only-of-type {\n",
       "        vertical-align: middle;\n",
       "    }\n",
       "\n",
       "    .dataframe tbody tr th {\n",
       "        vertical-align: top;\n",
       "    }\n",
       "\n",
       "    .dataframe thead th {\n",
       "        text-align: right;\n",
       "    }\n",
       "</style>\n",
       "<table border=\"1\" class=\"dataframe\">\n",
       "  <thead>\n",
       "    <tr style=\"text-align: right;\">\n",
       "      <th></th>\n",
       "      <th>Unnamed: 0</th>\n",
       "      <th>First Name</th>\n",
       "      <th>Last Name</th>\n",
       "      <th>Address</th>\n",
       "      <th>Email</th>\n",
       "      <th>Total Orders</th>\n",
       "    </tr>\n",
       "  </thead>\n",
       "  <tbody>\n",
       "    <tr>\n",
       "      <th>0</th>\n",
       "      <td>0</td>\n",
       "      <td>Jaswinder</td>\n",
       "      <td>Singh</td>\n",
       "      <td>37 Broadwide Road, Rummidge, RU6 7HG</td>\n",
       "      <td>JasSingh78@example.com</td>\n",
       "      <td>129</td>\n",
       "    </tr>\n",
       "    <tr>\n",
       "      <th>1</th>\n",
       "      <td>1</td>\n",
       "      <td>Mark</td>\n",
       "      <td>Harper</td>\n",
       "      <td>Flat 5, Riverside House, Anytown, AN2 8NE</td>\n",
       "      <td>Mark.Harper@example.com</td>\n",
       "      <td>120</td>\n",
       "    </tr>\n",
       "    <tr>\n",
       "      <th>2</th>\n",
       "      <td>2</td>\n",
       "      <td>Melinda</td>\n",
       "      <td>Nagy</td>\n",
       "      <td>77 Melton Road, Somecity, SM12 1HE</td>\n",
       "      <td>MelN@example.com</td>\n",
       "      <td>152</td>\n",
       "    </tr>\n",
       "    <tr>\n",
       "      <th>3</th>\n",
       "      <td>3</td>\n",
       "      <td>Yichen</td>\n",
       "      <td>Zhang</td>\n",
       "      <td>6/1 Braeside Court, Scotstoun, SC5 1HE</td>\n",
       "      <td>YZ41234253@example.com</td>\n",
       "      <td>204</td>\n",
       "    </tr>\n",
       "    <tr>\n",
       "      <th>4</th>\n",
       "      <td>4</td>\n",
       "      <td>Rebecca</td>\n",
       "      <td>Jameson</td>\n",
       "      <td>The Old Rectory, Humbleside, Marksham, MA14 6LW</td>\n",
       "      <td>BeckyJamzie@example.com</td>\n",
       "      <td>271</td>\n",
       "    </tr>\n",
       "    <tr>\n",
       "      <th>5</th>\n",
       "      <td>5</td>\n",
       "      <td>Willem</td>\n",
       "      <td>deVries</td>\n",
       "      <td>17 Parkside, Newtown-le-Willows, NL18 5TH</td>\n",
       "      <td>deVries1955@example.com</td>\n",
       "      <td>276</td>\n",
       "    </tr>\n",
       "    <tr>\n",
       "      <th>6</th>\n",
       "      <td>6</td>\n",
       "      <td>James</td>\n",
       "      <td>Colton</td>\n",
       "      <td>19 Belton Street, Isle of Trees, IT2 5PQ</td>\n",
       "      <td>JimmyColton@example.com</td>\n",
       "      <td>72</td>\n",
       "    </tr>\n",
       "    <tr>\n",
       "      <th>7</th>\n",
       "      <td>7</td>\n",
       "      <td>Ethel</td>\n",
       "      <td>Trellis</td>\n",
       "      <td>1 The Avenue, Foxley Estate, Rummidge, RU4 7WF</td>\n",
       "      <td>EthelsPlace@example.com</td>\n",
       "      <td>24</td>\n",
       "    </tr>\n",
       "  </tbody>\n",
       "</table>\n",
       "</div>"
      ],
      "text/plain": [
       "   Unnamed: 0 First Name Last Name  \\\n",
       "0           0  Jaswinder     Singh   \n",
       "1           1       Mark    Harper   \n",
       "2           2    Melinda      Nagy   \n",
       "3           3     Yichen     Zhang   \n",
       "4           4    Rebecca   Jameson   \n",
       "5           5     Willem   deVries   \n",
       "6           6      James    Colton   \n",
       "7           7      Ethel   Trellis   \n",
       "\n",
       "                                           Address                    Email  \\\n",
       "0             37 Broadwide Road, Rummidge, RU6 7HG   JasSingh78@example.com   \n",
       "1        Flat 5, Riverside House, Anytown, AN2 8NE  Mark.Harper@example.com   \n",
       "2               77 Melton Road, Somecity, SM12 1HE         MelN@example.com   \n",
       "3           6/1 Braeside Court, Scotstoun, SC5 1HE   YZ41234253@example.com   \n",
       "4  The Old Rectory, Humbleside, Marksham, MA14 6LW  BeckyJamzie@example.com   \n",
       "5        17 Parkside, Newtown-le-Willows, NL18 5TH  deVries1955@example.com   \n",
       "6         19 Belton Street, Isle of Trees, IT2 5PQ  JimmyColton@example.com   \n",
       "7   1 The Avenue, Foxley Estate, Rummidge, RU4 7WF  EthelsPlace@example.com   \n",
       "\n",
       "   Total Orders  \n",
       "0           129  \n",
       "1           120  \n",
       "2           152  \n",
       "3           204  \n",
       "4           271  \n",
       "5           276  \n",
       "6            72  \n",
       "7            24  "
      ]
     },
     "execution_count": 2,
     "metadata": {},
     "output_type": "execute_result"
    }
   ],
   "source": [
    "df = pd.read_csv(\"preprocessed_customer_data.csv\")\n",
    "df"
   ]
  },
  {
   "cell_type": "markdown",
   "metadata": {},
   "source": [
    "Coding task: In the next block, calculate and print the average (mean) number of orders for a customer."
   ]
  },
  {
   "cell_type": "code",
   "execution_count": 3,
   "metadata": {},
   "outputs": [
    {
     "data": {
      "text/html": [
       "<div>\n",
       "<style scoped>\n",
       "    .dataframe tbody tr th:only-of-type {\n",
       "        vertical-align: middle;\n",
       "    }\n",
       "\n",
       "    .dataframe tbody tr th {\n",
       "        vertical-align: top;\n",
       "    }\n",
       "\n",
       "    .dataframe thead th {\n",
       "        text-align: right;\n",
       "    }\n",
       "</style>\n",
       "<table border=\"1\" class=\"dataframe\">\n",
       "  <thead>\n",
       "    <tr style=\"text-align: right;\">\n",
       "      <th></th>\n",
       "      <th>Unnamed: 0</th>\n",
       "      <th>Total Orders</th>\n",
       "    </tr>\n",
       "  </thead>\n",
       "  <tbody>\n",
       "    <tr>\n",
       "      <th>count</th>\n",
       "      <td>8.00000</td>\n",
       "      <td>8.000000</td>\n",
       "    </tr>\n",
       "    <tr>\n",
       "      <th>mean</th>\n",
       "      <td>3.50000</td>\n",
       "      <td>156.000000</td>\n",
       "    </tr>\n",
       "    <tr>\n",
       "      <th>std</th>\n",
       "      <td>2.44949</td>\n",
       "      <td>89.801368</td>\n",
       "    </tr>\n",
       "    <tr>\n",
       "      <th>min</th>\n",
       "      <td>0.00000</td>\n",
       "      <td>24.000000</td>\n",
       "    </tr>\n",
       "    <tr>\n",
       "      <th>25%</th>\n",
       "      <td>1.75000</td>\n",
       "      <td>108.000000</td>\n",
       "    </tr>\n",
       "    <tr>\n",
       "      <th>50%</th>\n",
       "      <td>3.50000</td>\n",
       "      <td>140.500000</td>\n",
       "    </tr>\n",
       "    <tr>\n",
       "      <th>75%</th>\n",
       "      <td>5.25000</td>\n",
       "      <td>220.750000</td>\n",
       "    </tr>\n",
       "    <tr>\n",
       "      <th>max</th>\n",
       "      <td>7.00000</td>\n",
       "      <td>276.000000</td>\n",
       "    </tr>\n",
       "  </tbody>\n",
       "</table>\n",
       "</div>"
      ],
      "text/plain": [
       "       Unnamed: 0  Total Orders\n",
       "count     8.00000      8.000000\n",
       "mean      3.50000    156.000000\n",
       "std       2.44949     89.801368\n",
       "min       0.00000     24.000000\n",
       "25%       1.75000    108.000000\n",
       "50%       3.50000    140.500000\n",
       "75%       5.25000    220.750000\n",
       "max       7.00000    276.000000"
      ]
     },
     "execution_count": 3,
     "metadata": {},
     "output_type": "execute_result"
    }
   ],
   "source": [
    "df.describe()"
   ]
  },
  {
   "cell_type": "markdown",
   "metadata": {},
   "source": [
    "Coding Task: Your company has decided to carry out a local promotion for customers living in the Rummidge area, i.e. anyone with a postcode beginning \"RU..\". By using the ideas from the two preliminary examples, and by looking up how substrings work (e.g. at https://www.freecodecamp.org/news/how-to-substring-a-string-in-python/), write code in the next block to select these customers and make a list of their email addresses. You will need to add a couple more examples to your test data so that you have examples both with and without these postcodes. If you are not familiar with UK postcodes, you will need to find out how they are formatted and where they are in the address."
   ]
  },
  {
   "cell_type": "code",
   "execution_count": 4,
   "metadata": {},
   "outputs": [
    {
     "name": "stdout",
     "output_type": "stream",
     "text": [
      "37 Broadwide Road, Rummidge, RU6 7HG\n",
      "1 The Avenue, Foxley Estate, Rummidge, RU4 7WF\n"
     ]
    }
   ],
   "source": [
    "address = df['Address']\n",
    "listAddress = list(address)\n",
    "for i in range(len(listAddress)):\n",
    "    if 'RU' in listAddress[i]:\n",
    "        print(listAddress[i])"
   ]
  },
  {
   "cell_type": "markdown",
   "metadata": {},
   "source": [
    "Optional advanced extension task: You can automate email sending from Python - see https://realpython.com/python-send-email/. So, write code to actually send the emails (it is safe to do so, because they all use the \"example.com\" domain which is reserved for examples, so you won't accidentally send an email to a real person). You can check it works by putting your email adress in the \"Email\" column of your test file. This is a rather advanced task, so I would suggest that you leave this and return to it at the end once you have done everything else."
   ]
  },
  {
   "cell_type": "code",
   "execution_count": null,
   "metadata": {},
   "outputs": [],
   "source": []
  },
  {
   "cell_type": "markdown",
   "metadata": {},
   "source": [
    "Coding Task: Your team leader believes that customers in the northern sales region buy more coffee than those in the midlands sales region. Data matching the first two letters of postcodes to sales regions is in the *salesRegions.xlsx* file, which is on your team site on GitHub (you might find it useful to convert this to a Python dictionary, e.g. https://stackoverflow.com/questions/18012505/python-pandas-dataframe-columns-convert-to-dict-key-and-value). In the next block, write code to calculate the average sales for each region. Extension: If you are confident with statisical analysis, you could test whether the difference is statistically significant"
   ]
  },
  {
   "cell_type": "code",
   "execution_count": 7,
   "metadata": {},
   "outputs": [
    {
     "name": "stdout",
     "output_type": "stream",
     "text": [
      "The average of total orders in the Midlands region is  76.5\n",
      "The average of total orders in the Northern region is  182.5\n"
     ]
    }
   ],
   "source": [
    "address=df['Address']\n",
    "orders=df['Total Orders']\n",
    "#orderType = df['Order Type']\n",
    "#orderList = list(orderType)\n",
    "listAddress = list(address)\n",
    "listOrders = list(orders)\n",
    "midlandValues = []\n",
    "northernValues=[]\n",
    "\n",
    "for i in range(len(listAddress)):\n",
    "    if 'RU' in listAddress[i]:\n",
    "        #if 'Packets' == orderList[i]:\n",
    "        #    midlandValues.append(listOrders[i] * 5)\n",
    "        #else:\n",
    "        midlandValues.append(listOrders[i])\n",
    "    else:\n",
    "        #if 'Packets' == orderList[i]:\n",
    "         #   northernValues.append(listOrders[i] * 5)\n",
    "        #else:\n",
    "        northernValues.append(listOrders[i])\n",
    "\n",
    "midlandAvg = sum(midlandValues)/len(midlandValues)\n",
    "northernAvg = sum(northernValues)/len(northernValues)\n",
    "\n",
    "print('The average of total orders in the Midlands region is ', midlandAvg)\n",
    "print('The average of total orders in the Northern region is ', northernAvg)\n"
   ]
  },
  {
   "cell_type": "markdown",
   "metadata": {},
   "source": [
    "Thinking Task: Would you conclude that there is enough evidence to support your team leader's conclusion? If not, what additional information would you need?"
   ]
  },
  {
   "cell_type": "markdown",
   "metadata": {},
   "source": [
    "<b>Our team concludes there is not enough evidence. We assumed a packet contained 5 individual coffee pouches to help account for the fact that the Northern region had more orders of packets than individual orders. Howvever, due to the fact it was an assumption, there isn't enough evidence to accurately judge the difference in sales.</b>"
   ]
  },
  {
   "cell_type": "code",
   "execution_count": null,
   "metadata": {},
   "outputs": [],
   "source": []
  }
 ],
 "metadata": {
  "kernelspec": {
   "display_name": "Python 3 (ipykernel)",
   "language": "python",
   "name": "python3"
  },
  "language_info": {
   "codemirror_mode": {
    "name": "ipython",
    "version": 3
   },
   "file_extension": ".py",
   "mimetype": "text/x-python",
   "name": "python",
   "nbconvert_exporter": "python",
   "pygments_lexer": "ipython3",
   "version": "3.9.7"
  }
 },
 "nbformat": 4,
 "nbformat_minor": 4
}
