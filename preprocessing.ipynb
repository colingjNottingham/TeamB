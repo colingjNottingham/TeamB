{
 "cells": [
  {
   "cell_type": "markdown",
   "metadata": {},
   "source": [
    "### Block Release Exercise: Preprocessing Group\n",
    "\n",
    "This notebook is for the pre-processing group. Your aim is to take the data contained in *customerlist.xlsx*, clean it up, and make it consistent with the interface format so that your data can be passed onto the other group at the end of the afternoon session. You should not communicate with the other group until the end of the task.\n",
    "\n",
    "There are various tasks that you have to do. These are marked with \"Coding Task\" in the sheet.\n",
    "\n",
    "You will need to start by downloading the initial version of the spreadsheet *customerList.xlsx* from the GitHub site; we will give your team a name and associated GitHub project. Check out a copy of this from GitHub, and make sure that you have it in the same folder as this notebook."
   ]
  },
  {
   "cell_type": "markdown",
   "metadata": {},
   "source": [
    "##### Background Information: Customer Spreadsheet\n",
    "\n",
    "The customer spreadsheet provided is for customers of an online coffee company. It has five columns: Customer Name, Address, Email, Total Orders, and Order Type. Customer total orders are either recorded by \"Individual\" number of coffee pods ordered, or by \"Packets\" that consist of 12 coffee pods.\n",
    "\n",
    "##### Background Information: Interface Format\n",
    "\n",
    "The software interface between your work and the work by the other group consists of an csv formatted file, i.e. a file where on each row, entries are separated by commas, with a newline separating rows.The columns are: First Name, Last Name, Email, Address, Total Orders (in that order). Total orders is in terms of individual numbers of pods. So, the output from running this notebook will need to be in that format. The file should be called *cleanedCustomerData.csv*"
   ]
  },
  {
   "cell_type": "markdown",
   "metadata": {},
   "source": [
    "Coding Task: in the next block, import the Pandas data processing library and name it \"pd\""
   ]
  },
  {
   "cell_type": "code",
   "execution_count": null,
   "metadata": {},
   "outputs": [],
   "source": [
    "#ANSWER"
   ]
  },
  {
   "cell_type": "markdown",
   "metadata": {},
   "source": [
    "Coding Task: in the next block, read in the file \"customers.xlsx\" into a Pandas dataframe called customers, then print it out to make sure that you have read it in correctly."
   ]
  },
  {
   "cell_type": "code",
   "execution_count": null,
   "metadata": {},
   "outputs": [],
   "source": [
    "#ANSWER"
   ]
  },
  {
   "cell_type": "markdown",
   "metadata": {},
   "source": [
    "The next few tasks are concerned with cleaning the data. Before you look at the step-to-step guidelines below, look at the data and decide where there are inconsistencies, duplicates, problems. Look at the output format and consider how the desired output format differs from the input format. Make some notes on this in the next block."
   ]
  },
  {
   "cell_type": "markdown",
   "metadata": {},
   "source": [
    "#ANSWER"
   ]
  },
  {
   "cell_type": "raw",
   "metadata": {},
   "source": [
    "Preliminary Example: In a lot of the code you are going to write below, you will need to loop through one or more columns of the DataFrame to look for particular patterns and make changes. The basic idea you will use a lot is a for loop with an *enumerate* function, which loops through each row of the dataframe and gives names to the current row and the item of interest, and the *at* function that takes a column name and row number and allows you to view or change that data point."
   ]
  },
  {
   "cell_type": "code",
   "execution_count": null,
   "metadata": {},
   "outputs": [],
   "source": [
    "#example\n",
    "for i,c in enumerate(customers[\"Email\"]):\n",
    "    print(c)\n",
    "    #customers.at[i,\"Email\"] = \"blah\" # showing how to make a change\n",
    "    # don't uncomment the previous line or you will over-write all the email addresses!"
   ]
  },
  {
   "cell_type": "markdown",
   "metadata": {},
   "source": [
    "Coding Task: Note that there is an error in the \"order type\" column, where instead of \"Individual\" one row says \"Ind.\". Write code to loop though the column and change this. Don't just change that one example by setting the value directly - write code so that it will catch any instance of this. Use the example above as a starting point, but clearly you will have to make some changes to it."
   ]
  },
  {
   "cell_type": "code",
   "execution_count": null,
   "metadata": {},
   "outputs": [],
   "source": [
    "#ANSWER "
   ]
  },
  {
   "cell_type": "markdown",
   "metadata": {},
   "source": [
    "Preliminary example: *iterrows()* is a function on a dataframe that we can use alongside a for loop to go through each of the items in a dataframe, giving us both the row number (often called the *index* of that line) and the data on the row itself. Here is an example, where we print out the data."
   ]
  },
  {
   "cell_type": "code",
   "execution_count": null,
   "metadata": {},
   "outputs": [],
   "source": [
    "#example\n",
    "for i1,c1 in customers.iterrows():\n",
    "    print(i1)\n",
    "    print(list(c1))"
   ]
  },
  {
   "cell_type": "raw",
   "metadata": {},
   "source": [
    "Coding Task: There is a duplicate entry. In the next block, write code to get rid of duplicate entries. Create an empty list, called *duplicates*, that will check  You will need to use two *for* loops, one inside the other, to loop around the customer entries. Then use an *if* statement to check whether the two customers are identical, and if so, store the line numbers in a list. Finally, use *customers.drop(1,inplace=True)* to delete row 1 of the duplicated rows (don't delete both!). Note that we have to say *inplace* otherwise the original dataframe will be unchanged and a copy returned. This is a rather complex task so please remember to ask us for help. "
   ]
  },
  {
   "cell_type": "code",
   "execution_count": null,
   "metadata": {},
   "outputs": [],
   "source": [
    "#ANSWER\n"
   ]
  },
  {
   "cell_type": "raw",
   "metadata": {},
   "source": [
    "Let's re-set the index column so that there isn't a missing value, then let's print the customers dataframe to "
   ]
  },
  {
   "cell_type": "code",
   "execution_count": null,
   "metadata": {},
   "outputs": [],
   "source": [
    "customers.reset_index(inplace=True, drop=True)\n",
    "print(customers)"
   ]
  },
  {
   "cell_type": "markdown",
   "metadata": {},
   "source": [
    "Thinking Task and (optional) Advanced Coding Task (optional): There is a more complex duplicated entry. If you look at the customer \"Jaswinder Singh\" then you will see that there are two similar entries - same name, similar address, same email, but different numbers of orders. What do you think should be done with this entry? I would suggest that it make sense to combine the two rows into one, and add the total number of orders together - this looks like the same customer has created two accounts. Do you agree? This demonstrates that deciding what to do about duplicate and near-duplicate entries isn't trivial - you need to think about the context of the data. If you are confident with coding, write some code in the next block to do this - this is rather challenging, though, so you might want to move on to the next task."
   ]
  },
  {
   "cell_type": "code",
   "execution_count": null,
   "metadata": {},
   "outputs": [],
   "source": [
    "#ANSWER to optional task"
   ]
  },
  {
   "cell_type": "markdown",
   "metadata": {},
   "source": [
    "Coding Task: Now let's start putting the data into the required format. Firstly, let's sort out the order totals. Remember that if people ordered in \"Packets\" then that is packets of twelve coffee pods, and that the final format requires \"Total Orders\" to be in terms of individual pods. So, write some code in the next block that loops through the rows, and if the \"Order Type\" is Packets, multiplies the \"Order Total\" column by 12. For consistency, you should then change the \"Order Type\" to Individual, though you could perhaps neglect this because we are going to delete the \"Order Type\" column soon because it is not needed in the final format."
   ]
  },
  {
   "cell_type": "code",
   "execution_count": null,
   "metadata": {},
   "outputs": [],
   "source": [
    "#ANSWER\n"
   ]
  },
  {
   "cell_type": "markdown",
   "metadata": {},
   "source": [
    "Coding Task: Read the documentation about the \"drop\" function at https://pandas.pydata.org/docs/reference/api/pandas.DataFrame.drop.html and in the next block delete the \"Order Type\" column."
   ]
  },
  {
   "cell_type": "code",
   "execution_count": null,
   "metadata": {},
   "outputs": [],
   "source": [
    "#ANSWER"
   ]
  },
  {
   "cell_type": "markdown",
   "metadata": {},
   "source": [
    "Preliminary Example: In the next step, we are going to split the \"name\" column. You do this using the \"split\" function in python, https://www.w3schools.com/python/ref_string_split.asp Here is an example:"
   ]
  },
  {
   "cell_type": "code",
   "execution_count": null,
   "metadata": {},
   "outputs": [],
   "source": [
    "name = \"Colin Johnson\"\n",
    "splitName = name.split()\n",
    "print(splitName)"
   ]
  },
  {
   "cell_type": "markdown",
   "metadata": {},
   "source": [
    "Coding Task: Now, we need to create two new columns consisting of the first and last names (we are really lucky here, everyone in our data has just one first name and one last name, and they are clearly separated by a space. In real data, this is a much more complex task!). In the next block, write a *for* loop to go through the \"Customer Name\" column, and make a list of the first names and a list of the last names. Call these lists *firstNames* and *lastNames*."
   ]
  },
  {
   "cell_type": "code",
   "execution_count": null,
   "metadata": {},
   "outputs": [],
   "source": [
    "#ANSWER"
   ]
  },
  {
   "cell_type": "markdown",
   "metadata": {},
   "source": [
    "In the next block, we add these new columns to the customers DataFrame."
   ]
  },
  {
   "cell_type": "code",
   "execution_count": null,
   "metadata": {},
   "outputs": [],
   "source": [
    "customers[\"First Name\"] = firstNames\n",
    "customers[\"Last Name\"] = lastNames\n",
    "print(customers)"
   ]
  },
  {
   "cell_type": "markdown",
   "metadata": {},
   "source": [
    "Coding Task: In the next block, remove the original \"Customer Name\" column"
   ]
  },
  {
   "cell_type": "code",
   "execution_count": null,
   "metadata": {},
   "outputs": [],
   "source": [
    "#ANSWER"
   ]
  },
  {
   "cell_type": "markdown",
   "metadata": {},
   "source": [
    "Coding Task: Next, we need to re-order the columns. This is done using the *reindex* method on a dataframe. This takes a list of the column titles in the order that we want to put them in. In the next block, create a list called *newOrder* with the columns titles in the right order, using the \"Background Information: Interface Format\" section at the beginning of this sheet to find out what these are. Then the next block will apply the reindex method."
   ]
  },
  {
   "cell_type": "code",
   "execution_count": null,
   "metadata": {},
   "outputs": [],
   "source": [
    "#ANSWER"
   ]
  },
  {
   "cell_type": "code",
   "execution_count": null,
   "metadata": {},
   "outputs": [],
   "source": [
    "customers = customers.reindex(columns=newOrder)\n",
    "print(customers)"
   ]
  },
  {
   "cell_type": "markdown",
   "metadata": {},
   "source": [
    "Coding task Okay, the final part of the project is to write this to a csv file. Look at https://pandas.pydata.org/docs/reference/api/pandas.DataFrame.to_csv.html to find out how to do this, and write a line of code in the next block to do this. Make sure to use the \"index=False\" option so that you do not include a numerical index column."
   ]
  },
  {
   "cell_type": "code",
   "execution_count": 1,
   "metadata": {},
   "outputs": [],
   "source": [
    "#ANSWER"
   ]
  },
  {
   "cell_type": "markdown",
   "metadata": {},
   "source": [
    "We are finished here. Look in the folder to check that the csv file has been correctly written, and then go back to the command line to upload the csv file to the GitHub project."
   ]
  }
 ],
 "metadata": {
  "kernelspec": {
   "display_name": "Python 3",
   "language": "python",
   "name": "python3"
  },
  "language_info": {
   "codemirror_mode": {
    "name": "ipython",
    "version": 3
   },
   "file_extension": ".py",
   "mimetype": "text/x-python",
   "name": "python",
   "nbconvert_exporter": "python",
   "pygments_lexer": "ipython3",
   "version": "3.9.6"
  }
 },
 "nbformat": 4,
 "nbformat_minor": 4
}
